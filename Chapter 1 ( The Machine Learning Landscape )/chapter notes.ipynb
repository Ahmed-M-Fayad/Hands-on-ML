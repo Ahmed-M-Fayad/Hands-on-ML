{
 "cells": [
  {
   "cell_type": "markdown",
   "metadata": {},
   "source": [
    "# Chapter 1: The Machine Learning Landscape"
   ]
  },
  {
   "cell_type": "markdown",
   "metadata": {},
   "source": [
    "---"
   ]
  },
  {
   "cell_type": "markdown",
   "metadata": {},
   "source": [
    "### Introduction"
   ]
  },
  {
   "cell_type": "markdown",
   "metadata": {},
   "source": [
    "The first chapter of \"Hands-On Machine Learning with Scikit-Learn, Keras, and TensorFlow\" introduces the fundamentals of machine learning (ML), explaining it as a field where systems learn from data to make predictions or decisions without explicit programming. It outlines key ML types—supervised, unsupervised, semi-supervised, and reinforcement learning—and highlights practical applications like recommendation systems, healthcare, and autonomous vehicles. The chapter discusses challenges such as biased data and overfitting while emphasizing the importance of datasets, models, and performance metrics. Finally, it provides a high-level overview of the ML pipeline, from data preparation to deployment, setting the stage for hands-on learning in later chapters."
   ]
  },
  {
   "cell_type": "markdown",
   "metadata": {},
   "source": [
    "---"
   ]
  },
  {
   "cell_type": "markdown",
   "metadata": {},
   "source": [
    "### So what is machine learning ?"
   ]
  },
  {
   "cell_type": "markdown",
   "metadata": {},
   "source": [
    "*Machine Learning is the science (and art) of programming computers so\n",
    "they can learn from data.*"
   ]
  },
  {
   "cell_type": "markdown",
   "metadata": {},
   "source": [
    "* more general definition:<br>\n",
    "[Machine Learning is the] field of study that gives computers the ability\n",
    "to learn without being explicitly programmed.<br>\n",
    "**Arthur Samuel, 1959**\n",
    "\n",
    "* And a more engineering-oriented one:<br>\n",
    "A computer program is said to learn from experience E with respect to\n",
    "some task T and some performance measure P, if its performance on T,\n",
    "as measured by P, improves with experience E.<br>\n",
    "**Tom Mitchell, 1997**"
   ]
  },
  {
   "cell_type": "markdown",
   "metadata": {},
   "source": [
    "---"
   ]
  },
  {
   "cell_type": "markdown",
   "metadata": {},
   "source": [
    "### Why we use machine learning ?"
   ]
  },
  {
   "cell_type": "markdown",
   "metadata": {},
   "source": [
    "A traditional program like spam filter was firstly programmed as a detector which is considered as a searching algorithm <br>\n",
    "a machine learning one is a more elegent one for example: <br>\n",
    "when you detect a word like \"4U\" as a spam, you will usually need to update your program every minute <br>\n",
    "since a spammer can write \"For U\" instead and your algorithm does not recognize it as a spam <br>\n",
    "so what a machine learning do is to recognize that case \"4U\" ---> \"For U\" with and it starts flagging them without your intervention"
   ]
  },
  {
   "cell_type": "markdown",
   "metadata": {},
   "source": [
    "<img src = \"Images\\image_1.png\" alt = \"Machine Learning lifecycle\" width = 300 height = 200>"
   ]
  },
  {
   "cell_type": "markdown",
   "metadata": {},
   "source": [
    "---"
   ]
  },
  {
   "cell_type": "markdown",
   "metadata": {},
   "source": [
    "### Examples of Applications"
   ]
  },
  {
   "cell_type": "markdown",
   "metadata": {},
   "source": [
    "1. **image classification** <br>\n",
    "Typically performed using convolutional\n",
    "neural networks"
   ]
  },
  {
   "cell_type": "markdown",
   "metadata": {},
   "source": [
    "2. **Detecting tumors in brain scans** <br>\n",
    "Where each pixel in the image is\n",
    "classified (as we want to determine the exact location and shape of\n",
    "tumors), typically using CNNs as well."
   ]
  },
  {
   "cell_type": "markdown",
   "metadata": {},
   "source": [
    "3. **Automatically classifying news articles** <br>\n",
    "This is natural language processing (NLP), and more specifically text\n",
    "classification, which can be tackled using recurrent neural networks\n",
    "(RNNs), CNNs, or Transformers"
   ]
  },
  {
   "cell_type": "markdown",
   "metadata": {},
   "source": [
    "4. **flagging offensive comments on discussion forums** <br>\n",
    "Text calssification using same NLP tools"
   ]
  },
  {
   "cell_type": "markdown",
   "metadata": {},
   "source": [
    "5. **Summarizing long documents** <br>\n",
    "This is a branch of NLP called text summarization, again using the\n",
    "same tools"
   ]
  },
  {
   "cell_type": "markdown",
   "metadata": {},
   "source": [
    "6. **Creating a chatbot** <br>\n",
    "This involves many NLP components, including natural language\n",
    "understanding (NLU) and question-answering modules"
   ]
  },
  {
   "cell_type": "markdown",
   "metadata": {},
   "source": [
    "7. **Forecasting your company’s revenue next year** <br>\n",
    "This is a regression task (i.e., predicting values) that may be tackled\n",
    "using any regression model, ..., SVM, ..., CNNs, Transformers"
   ]
  },
  {
   "cell_type": "markdown",
   "metadata": {},
   "source": [
    "---"
   ]
  },
  {
   "cell_type": "markdown",
   "metadata": {},
   "source": [
    "### Types of machine learning systems"
   ]
  },
  {
   "cell_type": "markdown",
   "metadata": {},
   "source": [
    "#### **Supervised/Unsupervised Learning** <br>\n",
    "*Machine Learning systems can be classified according to the amount and\n",
    "type of supervision they get during training. There are four major\n",
    "categories: supervised learning, unsupervised learning, semisupervised\n",
    "learning, and Reinforcement Learning.*"
   ]
  },
  {
   "cell_type": "markdown",
   "metadata": {},
   "source": [
    "1. **Supervised Learning**"
   ]
  },
  {
   "cell_type": "markdown",
   "metadata": {},
   "source": [
    "*Supervised Techniques:* <br>\n",
    "* KNN\n",
    "* Linear regression\n",
    "* logistic regression\n",
    "* DTs , RFs\n",
    "* SVMs\n",
    "* ANNs\n",
    "<br> <br>\n",
    "*An example how spam filter works:* <br>\n",
    "And how that every instance is associated with its desired output <br> <br>\n",
    "<img src=\"Images\\image_2.png\" alt=\"spam filter supervised learning\" width=500 height=200>"
   ]
  },
  {
   "cell_type": "markdown",
   "metadata": {},
   "source": [
    "2. **Unsupervised Learning**"
   ]
  },
  {
   "cell_type": "markdown",
   "metadata": {},
   "source": [
    "*unsupervised techniques:*"
   ]
  },
  {
   "cell_type": "markdown",
   "metadata": {},
   "source": [
    "* Clustering\n",
    "    * K-Means\n",
    "    * DBSCAN\n",
    "    * Hierarchical Cluster Analysis (HCA)\n",
    "* Anomaly detection and novelty detection\n",
    "    * One-class SVM\n",
    "    * Isolation Forest\n",
    "* Visualization and dimensionality reduction\n",
    "    * Principal Component Analysis (PCA)\n",
    "    * Kernel PCA\n",
    "    * Locally Linear Embedding (LLE)\n",
    "    * t-Distributed Stochastic Neighbor Embedding (t-SNE)\n",
    "* Association rule learning\n",
    "    * Apriori\n",
    "    * Eclat"
   ]
  },
  {
   "cell_type": "markdown",
   "metadata": {},
   "source": [
    "**Common unsupervised learning algorithms used**"
   ]
  },
  {
   "cell_type": "markdown",
   "metadata": {},
   "source": [
    "- *Clustering* <br><br>\n",
    "<img src=\"Images\\image_3.png\" alt=\"clustering\" wight = 300 height = 200>"
   ]
  },
  {
   "cell_type": "markdown",
   "metadata": {},
   "source": [
    "- *t-SNE* <br> <br>\n",
    "<img src=\"Images\\image_4.png\" alt=\"t-SNE visualization\" width=300 height=200>"
   ]
  },
  {
   "cell_type": "markdown",
   "metadata": {},
   "source": [
    "- *Anomaly Detection* <br> <br>\n",
    "<img src=\"Images\\image_5.png\" alt=\"anomaly detection\" width=300 height=150>"
   ]
  },
  {
   "cell_type": "markdown",
   "metadata": {},
   "source": [
    "3. **Semisupervised Learning** <br> <br>\n",
    "*Most semisupervised learning algorithms are combinations of\n",
    "unsupervised and supervised algorithms. For example, deep belief\n",
    "networks (DBNs) are based on unsupervised components called restricted\n",
    "Boltzmann machines (RBMs) stacked on top of one another. RBMs are\n",
    "trained sequentially in an unsupervised manner, and then the whole system\n",
    "is fine-tuned using supervised learning techniques.*"
   ]
  },
  {
   "cell_type": "markdown",
   "metadata": {},
   "source": [
    "4. **Reinforcement Learning** <br> <br>\n",
    "*Reinforcement Learning isag a very different beast. The learning system,\n",
    "called an agent in this context, can observe the environment, select and\n",
    "perform actions, and get rewards in return (or penalties in the form of\n",
    "negative rewards. <br>\n",
    "It must then learn by itself\n",
    "what is the best strategy, called a policy, to get the most reward over time.\n",
    "A policy defines what action the agent should choose when it is in a given\n",
    "situation.*"
   ]
  },
  {
   "cell_type": "markdown",
   "metadata": {},
   "source": [
    "#### **Batch And Online Learning** <br>\n",
    "*The Question of do Machine Learning systems have the ability to learn incrementally from a stream of incoming data ?*"
   ]
  },
  {
   "cell_type": "markdown",
   "metadata": {},
   "source": [
    "1. **Batch Learning**"
   ]
  },
  {
   "cell_type": "markdown",
   "metadata": {},
   "source": [
    "**In batch learning, the system is incapable of learning incrementally: it\n",
    "must be trained using all the available data.**"
   ]
  },
  {
   "cell_type": "markdown",
   "metadata": {},
   "source": [
    "So if you want a batch learning system to know about new data (such as a new\n",
    "type of spam), you need to train a new version of the system from scratch\n",
    "on the full dataset (not just the new data, but also the old data), then stop\n",
    "the old system and replace it with the new one. <br> <br>\n",
    "**Fortunately, the whole process of training, evaluating, and launching a\n",
    "Machine Learning system can be automated fairly easily, so even a batch learning system can adapt to change. Simply\n",
    "update the data and train a new version of the system from scratch as often\n",
    "as needed.**\n",
    "<br> <br>\n",
    "<img src=\"Images\\image_6.png\" alt=\"Automated ML system\" width=500 height=300>"
   ]
  },
  {
   "cell_type": "markdown",
   "metadata": {},
   "source": [
    "2. **Online Learning**"
   ]
  },
  {
   "cell_type": "markdown",
   "metadata": {},
   "source": [
    "*In online learning, you train the system incrementally by feeding it data\n",
    "instances sequentially, either individually or in small groups called minibatches.\n",
    "Each learning step is fast and cheap, so the system can learn\n",
    "about new data on the fly, as it arrives*"
   ]
  },
  {
   "cell_type": "markdown",
   "metadata": {},
   "source": [
    "**Online learning can be deployed on one of two use cases:**"
   ]
  },
  {
   "cell_type": "markdown",
   "metadata": {},
   "source": [
    "- *Live stream data training and updating* <br> <br>\n",
    "<img src=\"Images\\image_7.png\" alt=\"live learning workflow\" width=300 height=200>"
   ]
  },
  {
   "cell_type": "markdown",
   "metadata": {},
   "source": [
    "- **Out-of-core** *training* <br> <br>\n",
    "Online learning algorithms can also be used to train systems on huge\n",
    "datasets that cannot fit in one machine’s main memory (this is called outof-\n",
    "core learning). The algorithm loads part of the data, runs a training step\n",
    "on that data, and repeats the process until it has run on all of the data <br> <br>\n",
    "<img src=\"Images\\image_8.png\" alt=\"Out-of-core learning\" width=300 height=200> <br> <br>\n",
    "*A big challenge with online learning is that if bad data is fed to the\n",
    "system, the system’s performance will gradually decline. If it’s a live\n",
    "system, your clients will notice. For example, bad data could come from a\n",
    "malfunctioning sensor on a robot, or from someone spamming a search\n",
    "engine to try to rank high in search results. To reduce this risk, you need to\n",
    "monitor your system closely and promptly switch learning off (and\n",
    "possibly revert to a previously working state) if you detect a drop in\n",
    "performance. You may also want to monitor the input data and react to\n",
    "abnormal data (e.g., using an anomaly detection algorithm)*"
   ]
  },
  {
   "cell_type": "markdown",
   "metadata": {},
   "source": [
    "#### **Instance-Based versus Model-Based Learning** <br>\n",
    "*the system needs to be able to make good predictions for (generalize to) examples it has never seen before.<br>\n",
    "Having a good performance measure on the training data is good, but insufficient; the true goal is to perform well on new instances.*"
   ]
  },
  {
   "cell_type": "markdown",
   "metadata": {},
   "source": [
    "1. **Instance-Based Learning**"
   ]
  },
  {
   "cell_type": "markdown",
   "metadata": {},
   "source": [
    "**Instance-Based** is just all about *Instead of just flagging emails that are identical to known spam emails, your spam filter could be programmed to also flag emails that are very similar to known spam emails.*"
   ]
  },
  {
   "cell_type": "markdown",
   "metadata": {},
   "source": [
    "2. **Model-Based Learning**"
   ]
  },
  {
   "cell_type": "markdown",
   "metadata": {},
   "source": [
    "*Another way to generalize from a set of examples is to build a model of\n",
    "these examples and then use that model to make predictions. This is called\n",
    "model-based learning*"
   ]
  },
  {
   "cell_type": "markdown",
   "metadata": {},
   "source": [
    "**Example. *Training and running a linear model using Scikit-Learn***"
   ]
  },
  {
   "cell_type": "code",
   "execution_count": 2,
   "metadata": {},
   "outputs": [
    {
     "data": {
      "image/png": "[encoded data removed]",
      "text/plain": [
       "<Figure size 640x480 with 1 Axes>"
      ]
     },
     "metadata": {},
     "output_type": "display_data"
    },
    {
     "name": "stdout",
     "output_type": "stream",
     "text": [
      "----------------------------------------------------------------------\n",
      "Model predicted value with (linear regression):  [[5.96242338]]\n",
      "Model predicted value with (KNNs regression):  [[5.76666667]]\n",
      "----------------------------------------------------------------------\n"
     ]
    }
   ],
   "source": [
    "import matplotlib.pyplot as plt\n",
    "import numpy as np\n",
    "import pandas as pd\n",
    "import sklearn.linear_model \n",
    "import sklearn.neighbors\n",
    "\n",
    "def prepare_country_stats(oecd_bli, gdp_per_capita):\n",
    "    oecd_bli = oecd_bli[oecd_bli[\"INEQUALITY\"]==\"TOT\"]\n",
    "    oecd_bli = oecd_bli.pivot(index=\"Country\", columns=\"Indicator\", values=\"Value\")\n",
    "    gdp_per_capita.rename(columns={\"2015\": \"GDP per capita\"}, inplace=True)\n",
    "    gdp_per_capita.set_index(\"Country\", inplace=True)\n",
    "    full_country_stats = pd.merge(left=oecd_bli, right=gdp_per_capita, left_index=True, right_index=True)\n",
    "    full_country_stats.sort_values(by=\"GDP per capita\", inplace=True)\n",
    "    remove_indices = [0, 1, 6, 8, 33, 34, 35]\n",
    "    keep_indices = list(set(range(36)) - set(remove_indices))\n",
    "    return full_country_stats[[\"GDP per capita\", 'Life satisfaction']].iloc[keep_indices]\n",
    "# Load the data\n",
    "oecd_bli = pd.read_csv(r\"Datasets\\oecd_bli_2015.csv\", thousands=',')\n",
    "gdp_per_capita = pd.read_csv(r\"Datasets\\gdp_per_capita.csv\",thousands=',',delimiter='\\t', encoding='latin1', na_values=\"n/a\")\n",
    "# Prepare the data\n",
    "country_stats = prepare_country_stats(oecd_bli, gdp_per_capita)\n",
    "X = np.c_[country_stats[\"GDP per capita\"]]\n",
    "y = np.c_[country_stats[\"Life satisfaction\"]]\n",
    "# Visualize the data\n",
    "country_stats.plot(kind='scatter', x=\"GDP per capita\", y='Life satisfaction')\n",
    "plt.show()\n",
    "# Select a linear model\n",
    "model = sklearn.linear_model.LinearRegression()\n",
    "# Train the model\n",
    "model.fit(X, y)\n",
    "# Make a prediction for Cyprus\n",
    "print(\"-\"*70)\n",
    "X_new = [[22587]] # Cyprus's GDP per capita\n",
    "print(\"Model predicted value with (linear regression): \" , model.predict(X_new)) # outputs [[ 5.96242338]]\n",
    "model = sklearn.neighbors.KNeighborsRegressor(n_neighbors=3)\n",
    "# Train the model\n",
    "model.fit(X, y)\n",
    "# Make a prediction for Cyprus\n",
    "X_new = [[22587]] # Cyprus's GDP per capita\n",
    "print(\"Model predicted value with (KNNs regression): \" , model.predict(X_new)) # outputs [[ 5.76666667]]\n",
    "print(\"-\"*70)\n"
   ]
  },
  {
   "cell_type": "markdown",
   "metadata": {},
   "source": [
    "#### **Main Challenges of Machine Learning** <br>\n",
    "*Since your main task is to select a learning algorithm and train it\n",
    "on some data, the two things that can go wrong are “bad algorithm” and\n",
    "“bad data.”*"
   ]
  },
  {
   "cell_type": "markdown",
   "metadata": {},
   "source": [
    "1. **Insufficient quntity of training data** <br>\n",
    "Machine Learning is not quite there yet; it takes a lot of data for most Machine Learning algorithms to work properly. Even for very simple problems you typically need thousands of examples, and for complex problems such as image or speech recognition you may need millions of examples (unless you can reuse parts of an existing model)."
   ]
  },
  {
   "cell_type": "markdown",
   "metadata": {},
   "source": [
    "2. **Non representive Training Data** <br>\n",
    "It is crucial to use a training set that is representative of the cases you\n",
    "want to generalize to. This is often harder than it sounds: if the sample is\n",
    "too small, you will have sampling noise (i.e., nonrepresentative data as a\n",
    "result of chance), but even very large samples can be nonrepresentative if\n",
    "the sampling method is flawed. This is called sampling bias.\n",
    "<br> <br>\n",
    "Also one thing that worth to be metioned is that data is not enough (not all possible instances like it) and can not be set as a judge to say that the new instance is similar to the data i was trained with"
   ]
  },
  {
   "cell_type": "markdown",
   "metadata": {},
   "source": [
    "3. **Poor quality data** <br>\n",
    "Obviously, if your training data is full of errors, outliers, and noise (e.g., due to poor-quality measurements), it will make it harder for the system to detect the underlying patterns, so your system is less likely to perform well. It is often well worth the effort to spend time cleaning up your training data. The truth is, most data scientists spend a significant part of their time doing just that.\n"
   ]
  },
  {
   "cell_type": "markdown",
   "metadata": {},
   "source": [
    "3. **Irrelevant Features** <br>\n",
    "As the saying goes: garbage in, garbage out. Your system will only be\n",
    "capable of learning if the training data contains enough relevant features\n",
    "and not too many irrelevant ones. A critical part of the success of a\n",
    "Machine Learning project is coming up with a good set of features to train\n",
    "on. This process, called feature engineering"
   ]
  },
  {
   "cell_type": "markdown",
   "metadata": {},
   "source": [
    "***Now that we have looked at many examples of bad data, let’s look at a\n",
    "couple of examples of bad algorithms.***"
   ]
  },
  {
   "cell_type": "markdown",
   "metadata": {},
   "source": [
    "1. **Overfitting the Training Data** <br>\n",
    "*In Machine Learning this is called overfitting: it means that the model performs well on the training data, but it does not generalize well.*\n",
    "<br><br>\n",
    "<img src=\"Images\\image_9.png\" alt=\"Overfitting the training data\" width=300 height=100>"
   ]
  },
  {
   "cell_type": "markdown",
   "metadata": {},
   "source": [
    "*Overfitting happens when the model is too complex relative to the amount and\n",
    "noisiness of the training data.*\n",
    "<br>\n",
    "Constraining a model to make it simpler and reduce the risk of overfitting\n",
    "is called ***regularization***."
   ]
  },
  {
   "cell_type": "markdown",
   "metadata": {},
   "source": [
    "*The dotted line represents the original model that was trained on the countries represented as circles (without the countries represented as squares), the dashed line is our second model trained with all countries (circles and squares), and the solid line is a model trained with the same data as the first model but with a ***regularization constraint***. You can see that regularization forced the model to have a smaller slope: this model does not fit the training data (circles) as well as the first model, but it actually generalizes better to new examples that it did not see during training (squares).*\n",
    "<br> <br>\n",
    "<img src=\"Images\\image_10.png\" alt=\"Regularization effect on model training\" width=300 height=100>\n",
    "<br>\n",
    "*The amount of regularization to apply during learning can be controlled by a hyperparameter. A hyperparameter is a parameter of a learning algorithm (not of the model). As such, it is not affected by the learning algorithm itself; it must be set prior to training and remains constant during training.*"
   ]
  },
  {
   "cell_type": "markdown",
   "metadata": {},
   "source": [
    "2. **Underfitting the training data** <br>\n",
    "*underfitting is the opposite of overfitting: it occurs when your model is too simple to learn the underlying structure of the data.*"
   ]
  },
  {
   "cell_type": "markdown",
   "metadata": {},
   "source": [
    "***Here are the main options for fixing this problem:*** <br>\n",
    "* Select a more powerful model, with more parameters.\n",
    "* Feed better features to the learning algorithm (feature engineering).\n",
    "* Reduce the constraints on the model (e.g., reduce the regularization hyperparameter)."
   ]
  },
  {
   "cell_type": "markdown",
   "metadata": {},
   "source": [
    "---"
   ]
  },
  {
   "cell_type": "markdown",
   "metadata": {},
   "source": [
    "### Testing and Validating"
   ]
  },
  {
   "cell_type": "markdown",
   "metadata": {},
   "source": [
    "*The only way to know how well a model will generalize to new cases is to split your data into two sets: the training set and the test set. As these names imply, you train your model using the training set, and you test it using the test set. The error rate on new cases is called the generalization error (or out-of-sample error), and by evaluating your model on the test set, you get an estimate of this error. This value tells you how well your model will perform on instances it has never seen before.*\n",
    "<br> <br>\n",
    "If the training error is low (i.e., your model makes few mistakes on the\n",
    "training set) but the generalization error is high, it means that your model\n",
    "is overfitting the training data.\n",
    "<br> <br>\n",
    "***It is common to use 80% of the data for training and hold out 20% for testing.\n",
    "However, this depends on the size of the dataset: if it contains 10 million instances,\n",
    "then holding out 1% means your test set will contain 100,000 instances, probably\n",
    "more than enough to get a good estimate of the generalization error.***"
   ]
  },
  {
   "cell_type": "markdown",
   "metadata": {},
   "source": [
    "#### **Hyperparameter Tuning and Model Selection**\n",
    "*A problem to think about is that you measured the generalization error multiple times on the test set, and you adapted the model and hyperparameters to produce the best model for that particular set. which led to low performance of the model on the new data.*"
   ]
  },
  {
   "cell_type": "markdown",
   "metadata": {},
   "source": [
    "This solution usually works quite well. However, if the validation set is too small, then model evaluations will be imprecise: you may end up selecting a suboptimal model by mistake. Conversely, if the validation setis too large, then the remaining training set will be much smaller than the full training set. Why is this bad? Well, since the final model will be trained on the full training set, it is not ideal to compare candidate models trained on a much smaller training set. It would be like selecting the fastest sprinter to participate in a marathon. One way to solve this problem is to perform repeated cross-validation, using many small validation sets. Each model is evaluated once per validation set after it is trained on the rest of the data. By averaging out all the evaluations of a model, you get a much more accurate measure of its performance. There is a drawback, however: the training time is multiplied by the number of validation sets."
   ]
  },
  {
   "cell_type": "markdown",
   "metadata": {},
   "source": [
    "#### **Data Mimatch**\n",
    "Data is not like the real world examples (data used is perfect in a way that this what is really happens in real world)"
   ]
  },
  {
   "cell_type": "markdown",
   "metadata": {},
   "source": [
    "##### Key Recommendations for avoiding data mismatch:"
   ]
  },
  {
   "cell_type": "markdown",
   "metadata": {},
   "source": [
    "**Validation and Test Sets:** <br>\n",
    "Ensure these sets are representative of the production data to accurately measure the model's real-world performance.\n",
    "<br> <br>\n",
    "**Train-Dev Set:** <br>\n",
    "Hold out a subset of the training data (e.g., web images) to evaluate the model. If it performs well on this set but poorly on the validation set, the issue likely stems from data mismatch. If it performs poorly on both, the model may be overfitting the training data."
   ]
  },
  {
   "cell_type": "markdown",
   "metadata": {},
   "source": [
    "##### Solutions for Data Mismatch:"
   ]
  },
  {
   "cell_type": "markdown",
   "metadata": {},
   "source": [
    "* Preprocess Training Data: \n",
    "    * Modify the web images to resemble mobile app photos (e.g., adjust resolution, lighting conditions, or cropping).\n",
    "* Regularize or Simplify the Model: \n",
    "    * If overfitting is the problem, reduce the model's complexity or use techniques like regularization.\n",
    "* Improve Data Quality: \n",
    "    * Gather more representative training data and clean up inconsistencies in the dataset."
   ]
  },
  {
   "cell_type": "markdown",
   "metadata": {},
   "source": [
    "##### No Free Lunch (NFL) Theorem\n",
    "The No Free Lunch (NFL) Theorem states that no single model is universally the best for all datasets. The effectiveness of a model depends entirely on the dataset and the assumptions made about the data."
   ]
  },
  {
   "cell_type": "markdown",
   "metadata": {},
   "source": [
    "For instance:\n",
    "<br>\n",
    "* A linear model assumes the data follows a linear pattern and ignores noise.\n",
    "* A neural network might excel on more complex, non-linear data.\n",
    "<br><br>\n",
    "***If you make no assumptions about the data, all models are equally valid, and there's no reason to prefer one over another. However, since testing all possible models is impractical, practitioners rely on reasonable assumptions about the data and evaluate a smaller subset of models tailored to the task.***"
   ]
  },
  {
   "cell_type": "markdown",
   "metadata": {},
   "source": [
    "---"
   ]
  },
  {
   "cell_type": "markdown",
   "metadata": {},
   "source": [
    "### Recap"
   ]
  },
  {
   "cell_type": "markdown",
   "metadata": {},
   "source": [
    "\n",
    "The first chapter of \"Hands-On Machine Learning with Scikit-Learn, Keras, and TensorFlow\" by Aurélien Géron, titled \"The Machine Learning Landscape,\" introduces the fundamental concepts of machine learning (ML) and its practical applications. It defines ML as a subset of artificial intelligence that enables systems to learn from data without explicit programming.\n",
    "<br> <br>\n",
    "The chapter categorizes ML into supervised, unsupervised, semi-supervised, and reinforcement learning, highlighting their distinct approaches and use cases. It outlines the typical ML workflow, encompassing problem framing, data collection, preprocessing, model training, evaluation, and deployment. Challenges such as data quality, overfitting, and algorithm selection are also discussed.\n",
    "<br> <br>\n",
    "Additionally, an illustrative example—predicting housing prices—is provided to demonstrate the end-to-end application of ML techniques. The chapter concludes by introducing key tools like Scikit-Learn, Keras, and TensorFlow, which will be explored in detail throughout the book.\n",
    "<br> <br>\n",
    "This chapter serves as a foundational overview, equipping readers with essential knowledge to embark on their ML journey."
   ]
  }
 ],
 "metadata": {
  "kernelspec": {
   "display_name": "Python 3",
   "language": "python",
   "name": "python3"
  },
  "language_info": {
   "codemirror_mode": {
    "name": "ipython",
    "version": 3
   },
   "file_extension": ".py",
   "mimetype": "text/x-python",
   "name": "python",
   "nbconvert_exporter": "python",
   "pygments_lexer": "ipython3",
   "version": "3.12.1"
  }
 },
 "nbformat": 4,
 "nbformat_minor": 2
}
